{
 "cells": [
  {
   "cell_type": "code",
   "execution_count": 1,
   "metadata": {
    "collapsed": true
   },
   "outputs": [],
   "source": [
    "import numpy as np\n",
    "import matplotlib.pyplot as plt\n",
    "\n",
    "from DeepAgent.agents import DQN, DoubleDQN, DoublePER\n",
    "from DeepAgent.networks import dueling, dqn\n",
    "from DeepAgent.utils.buffer import ExperienceReplay, PrioritizedExperienceReplay\n",
    "from DeepAgent.utils.game import GameEnv\n",
    "from TrainEvaluationWrapper import testWrapper\n",
    "\n",
    "from config import *"
   ]
  },
  {
   "cell_type": "code",
   "execution_count": 2,
   "outputs": [],
   "source": [
    "evaluation_episode = TEST_MAX_EPISODE"
   ],
   "metadata": {
    "collapsed": false,
    "pycharm": {
     "name": "#%%\n"
    }
   }
  },
  {
   "cell_type": "code",
   "execution_count": 3,
   "outputs": [],
   "source": [
    "# plot reward\n",
    "def plot_reward(rewards, title):\n",
    "    plt.figure(figsize=(10, 5))\n",
    "    plt.plot(rewards)\n",
    "    plt.xlabel('episode')\n",
    "    plt.ylabel('reward')\n",
    "    plt.title(title)\n",
    "    plt.show()"
   ],
   "metadata": {
    "collapsed": false,
    "pycharm": {
     "name": "#%%\n"
    }
   }
  },
  {
   "cell_type": "markdown",
   "source": [
    "# Evaluate DQN\n",
    "## Base DQN agent with ExperienceReply + CNN\n",
    "#### 1. Build CNN agent"
   ],
   "metadata": {
    "collapsed": false
   }
  },
  {
   "cell_type": "code",
   "execution_count": 4,
   "outputs": [
    {
     "name": "stdout",
     "output_type": "stream",
     "text": [
      "Model: \"model\"\n",
      "_________________________________________________________________\n",
      " Layer (type)                Output Shape              Param #   \n",
      "=================================================================\n",
      " input_1 (InputLayer)        [(None, 84, 84, 4)]       0         \n",
      "                                                                 \n",
      " lambda (Lambda)             (None, 84, 84, 4)         0         \n",
      "                                                                 \n",
      " conv2d (Conv2D)             (None, 20, 20, 32)        8192      \n",
      "                                                                 \n",
      " conv2d_1 (Conv2D)           (None, 9, 9, 64)          32768     \n",
      "                                                                 \n",
      " conv2d_2 (Conv2D)           (None, 7, 7, 64)          36864     \n",
      "                                                                 \n",
      " flatten (Flatten)           (None, 3136)              0         \n",
      "                                                                 \n",
      " dense (Dense)               (None, 512)               1606144   \n",
      "                                                                 \n",
      " dense_1 (Dense)             (None, 6)                 3078      \n",
      "                                                                 \n",
      "=================================================================\n",
      "Total params: 1,687,046\n",
      "Trainable params: 1,687,046\n",
      "Non-trainable params: 0\n",
      "_________________________________________________________________\n"
     ]
    },
    {
     "name": "stderr",
     "output_type": "stream",
     "text": [
      "A.L.E: Arcade Learning Environment (version 0.7.4+069f8bd)\n",
      "[Powered by Stella]\n"
     ]
    }
   ],
   "source": [
    "dqn_agent, test_env = testWrapper(agent=DQN.DQNAgent, env=GameEnv, network=dqn.DQNNetwork, buffer=ExperienceReplay, test_id='DQN_v1')"
   ],
   "metadata": {
    "collapsed": false,
    "pycharm": {
     "name": "#%%\n"
    }
   }
  },
  {
   "cell_type": "markdown",
   "source": [
    "#### 2. Evaluate with DQN saving model"
   ],
   "metadata": {
    "collapsed": false
   }
  },
  {
   "cell_type": "code",
   "execution_count": 17,
   "outputs": [
    {
     "name": "stdout",
     "output_type": "stream",
     "text": [
      "Loading Weights...\n"
     ]
    },
    {
     "name": "stderr",
     "output_type": "stream",
     "text": [
      "/Users/zwill/miniforge3/envs/DeepRL_DemonAttack/lib/python3.9/site-packages/gym/envs/atari/environment.py:267: UserWarning: \u001B[33mWARN: We strongly suggest supplying `render_mode` when constructing your environment, e.g., gym.make(ID, render_mode='human'). Using `render_mode` provides access to proper scaling, audio support, and proper framerates.\u001B[0m\n",
      "  logger.warn(\n"
     ]
    },
    {
     "name": "stdout",
     "output_type": "stream",
     "text": [
      "Episode: 0, Episode Reward: 6120.0\n",
      "Episode: 1, Episode Reward: 1760.0\n",
      "Episode: 2, Episode Reward: 540.0\n",
      "Episode: 3, Episode Reward: 1560.0\n",
      "Episode: 4, Episode Reward: 5270.0\n",
      "Episode: 5, Episode Reward: 3530.0\n",
      "Episode: 6, Episode Reward: 5260.0\n",
      "Episode: 7, Episode Reward: 5880.0\n",
      "Episode: 8, Episode Reward: 3610.0\n",
      "Episode: 9, Episode Reward: 2160.0\n",
      "Maximum total_step 10 exceeded\n"
     ]
    }
   ],
   "source": [
    "dqn_id = 'DQN_v2'\n",
    "dqn_path = f'models/{dqn_id}'\n",
    "dqn_rewards = dqn_agent.play(test_env=test_env, saving_path=dqn_path, video_dir=f'./video/{dqn_id}1',render=True, max_episode=evaluation_episode)"
   ],
   "metadata": {
    "collapsed": false,
    "pycharm": {
     "name": "#%%\n"
    }
   }
  },
  {
   "cell_type": "code",
   "execution_count": 18,
   "outputs": [
    {
     "data": {
      "text/plain": "<Figure size 720x360 with 1 Axes>",
      "image/png": "[encoded data removed]"
     },
     "metadata": {
      "needs_background": "light"
     },
     "output_type": "display_data"
    }
   ],
   "source": [
    "plot_reward(dqn_rewards, 'DQN_v2')"
   ],
   "metadata": {
    "collapsed": false,
    "pycharm": {
     "name": "#%%\n"
    }
   }
  },
  {
   "cell_type": "code",
   "execution_count": 6,
   "outputs": [
    {
     "name": "stdout",
     "output_type": "stream",
     "text": [
      "Model: \"model_2\"\n",
      "__________________________________________________________________________________________________\n",
      " Layer (type)                   Output Shape         Param #     Connected to                     \n",
      "==================================================================================================\n",
      " input_3 (InputLayer)           [(None, 84, 84, 4)]  0           []                               \n",
      "                                                                                                  \n",
      " lambda_3 (Lambda)              (None, 84, 84, 4)    0           ['input_3[0][0]']                \n",
      "                                                                                                  \n",
      " conv2d_6 (Conv2D)              (None, 20, 20, 32)   8192        ['lambda_3[0][0]']               \n",
      "                                                                                                  \n",
      " conv2d_7 (Conv2D)              (None, 9, 9, 64)     32768       ['conv2d_6[0][0]']               \n",
      "                                                                                                  \n",
      " conv2d_8 (Conv2D)              (None, 7, 7, 64)     36864       ['conv2d_7[0][0]']               \n",
      "                                                                                                  \n",
      " flatten_2 (Flatten)            (None, 3136)         0           ['conv2d_8[0][0]']               \n",
      "                                                                                                  \n",
      " dense_5 (Dense)                (None, 512)          1606144     ['flatten_2[0][0]']              \n",
      "                                                                                                  \n",
      " dense_7 (Dense)                (None, 6)            3078        ['dense_5[0][0]']                \n",
      "                                                                                                  \n",
      " lambda_4 (Lambda)              (None, 1)            0           ['dense_7[0][0]']                \n",
      "                                                                                                  \n",
      " dense_6 (Dense)                (None, 1)            513         ['dense_5[0][0]']                \n",
      "                                                                                                  \n",
      " subtract_1 (Subtract)          (None, 6)            0           ['dense_7[0][0]',                \n",
      "                                                                  'lambda_4[0][0]']               \n",
      "                                                                                                  \n",
      " add_1 (Add)                    (None, 6)            0           ['dense_6[0][0]',                \n",
      "                                                                  'subtract_1[0][0]']             \n",
      "                                                                                                  \n",
      "==================================================================================================\n",
      "Total params: 1,687,559\n",
      "Trainable params: 1,687,559\n",
      "Non-trainable params: 0\n",
      "__________________________________________________________________________________________________\n"
     ]
    }
   ],
   "source": [
    "dddqn_agent, test_env = testWrapper(agent=DoubleDQN.DoubleDQNAgent, env=GameEnv, network=dueling.DuelingNetwork, buffer=ExperienceReplay, test_id='DDDQN_v1')"
   ],
   "metadata": {
    "collapsed": false,
    "pycharm": {
     "name": "#%%\n"
    }
   }
  },
  {
   "cell_type": "code",
   "execution_count": 8,
   "outputs": [
    {
     "name": "stdout",
     "output_type": "stream",
     "text": [
      "Loading Weights...\n"
     ]
    },
    {
     "name": "stderr",
     "output_type": "stream",
     "text": [
      "/Users/zwill/miniforge3/envs/DeepRL_DemonAttack/lib/python3.9/site-packages/gym/envs/atari/environment.py:267: UserWarning: \u001B[33mWARN: We strongly suggest supplying `render_mode` when constructing your environment, e.g., gym.make(ID, render_mode='human'). Using `render_mode` provides access to proper scaling, audio support, and proper framerates.\u001B[0m\n",
      "  logger.warn(\n"
     ]
    },
    {
     "name": "stdout",
     "output_type": "stream",
     "text": [
      "Episode: 0, Episode Reward: 325.0\n",
      "Episode: 1, Episode Reward: 2050.0\n",
      "Episode: 2, Episode Reward: 325.0\n",
      "Episode: 3, Episode Reward: 2245.0\n",
      "Episode: 4, Episode Reward: 355.0\n",
      "Episode: 5, Episode Reward: 4670.0\n",
      "Episode: 6, Episode Reward: 70.0\n",
      "Episode: 7, Episode Reward: 1360.0\n",
      "Episode: 8, Episode Reward: 3315.0\n",
      "Episode: 9, Episode Reward: 2120.0\n",
      "Maximum total_step 10 exceeded\n"
     ]
    }
   ],
   "source": [
    "dddqn_id = 'DDDQN_v1'\n",
    "dddqn_path = f'models/{dddqn_id}'\n",
    "dddqn_rewards = dddqn_agent.play(test_env=test_env, saving_path=dddqn_path, video_dir=f'./video/{dddqn_id}1',render=True, max_episode=evaluation_episode)"
   ],
   "metadata": {
    "collapsed": false,
    "pycharm": {
     "name": "#%%\n"
    }
   }
  },
  {
   "cell_type": "code",
   "execution_count": 10,
   "outputs": [
    {
     "data": {
      "text/plain": "<Figure size 720x360 with 1 Axes>",
      "image/png": "[encoded data removed]"
     },
     "metadata": {
      "needs_background": "light"
     },
     "output_type": "display_data"
    },
    {
     "data": {
      "text/plain": "(None, 1683.5)"
     },
     "execution_count": 10,
     "metadata": {},
     "output_type": "execute_result"
    }
   ],
   "source": [
    "plot_reward(dddqn_rewards, 'DQN_v2'), np.mean(dddqn_rewards)"
   ],
   "metadata": {
    "collapsed": false,
    "pycharm": {
     "name": "#%%\n"
    }
   }
  }
 ],
 "metadata": {
  "kernelspec": {
   "display_name": "Python 3",
   "language": "python",
   "name": "python3"
  },
  "language_info": {
   "codemirror_mode": {
    "name": "ipython",
    "version": 2
   },
   "file_extension": ".py",
   "mimetype": "text/x-python",
   "name": "python",
   "nbconvert_exporter": "python",
   "pygments_lexer": "ipython2",
   "version": "2.7.6"
  }
 },
 "nbformat": 4,
 "nbformat_minor": 0
}